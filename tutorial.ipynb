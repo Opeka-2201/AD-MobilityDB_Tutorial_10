{
 "cells": [
  {
   "attachments": {},
   "cell_type": "markdown",
   "metadata": {},
   "source": [
    "## MobilityDB : A Moving Object Database System for Spatio-Temporal Data\n",
    "\n",
    "### (Optional) Creating a dedicated conda environment\n",
    "```bash\n",
    "conda create -n mobilityDB python=3.11\n",
    "conda activate mobilityDB\n",
    "```\n",
    "\n",
    "### Requirements\n",
    "\n",
    "- PostgreSQL (>= 14)\n",
    "    - Windows :\n",
    "        ```bash\n",
    "        choco install postgresql15\n",
    "        ```\n",
    "    - Linux :\n",
    "        ```bash\n",
    "        sudo apt install postgresql-15\n",
    "        ```\n",
    "    - Mac :\n",
    "        ```bash\n",
    "        brew install libpq\n",
    "        ```\n",
    "\n",
    "- Docker : [https://docs.docker.com/get-docker/](https://docs.docker.com/get-docker/)\n",
    "- psycopg2-binary, python-mobilitydb, pandas\n",
    "    ```bash\n",
    "    pip install psycopg2\n",
    "    pip install python-mobilitydb\n",
    "    pip install pandas\n",
    "    ```\n",
    "\n",
    "### Import necessary packages"
   ]
  },
  {
   "cell_type": "code",
   "execution_count": null,
   "metadata": {},
   "outputs": [],
   "source": [
    "import os\n",
    "\n",
    "import pandas as pd\n",
    "import matplotlib.pyplot as plt\n",
    "import numpy as np\n",
    "\n",
    "import psycopg2\n",
    "from mobilitydb.psycopg import register\n",
    "\n",
    "from tqdm import tqdm"
   ]
  },
  {
   "attachments": {},
   "cell_type": "markdown",
   "metadata": {},
   "source": [
    "## Concrete example : TEC (bus lines in Province de Liège)\n",
    "\n",
    "### Getting the TEC data from the official website (keep it as zip)"
   ]
  },
  {
   "cell_type": "code",
   "execution_count": null,
   "metadata": {},
   "outputs": [],
   "source": [
    "compute = False"
   ]
  },
  {
   "cell_type": "code",
   "execution_count": null,
   "metadata": {},
   "outputs": [],
   "source": [
    "if compute:\n",
    "    os.system(\"rm -rf TEC-GTFS.zip\")\n",
    "    os.system(\"wget https://opendata.tec-wl.be/Current%20GTFS/TEC-GTFS.zip --quiet\")"
   ]
  },
  {
   "attachments": {},
   "cell_type": "markdown",
   "metadata": {},
   "source": [
    "### Load the data into the database"
   ]
  },
  {
   "cell_type": "code",
   "execution_count": null,
   "metadata": {},
   "outputs": [],
   "source": [
    "if compute:\n",
    "    os.system(\"rm -rf data\")\n",
    "    os.system(\"mkdir data\")\n",
    "    os.system(\"unzip -o TEC-GTFS.zip -d data\")"
   ]
  },
  {
   "attachments": {},
   "cell_type": "markdown",
   "metadata": {},
   "source": [
    "### Isolate the Data for Province de Liège"
   ]
  },
  {
   "cell_type": "code",
   "execution_count": null,
   "metadata": {},
   "outputs": [],
   "source": [
    "# Calendar : we want to keep only the services of Province de Liege and transform the calendar to have one row per week\n",
    "\n",
    "if compute:\n",
    "    # Remove calendar with service_id not starting by 'L'\n",
    "    calendar = pd.read_csv('data/calendar.txt')\n",
    "    calendar = calendar[calendar['service_id'].str.startswith('L')]\n",
    "\n",
    "    new_calendar = pd.DataFrame(columns=['service_id', 'monday', 'tuesday', 'wednesday', 'thursday', 'friday', 'saturday', 'sunday'])\n",
    "\n",
    "    for index, row in calendar.iterrows():\n",
    "        start_date = row['start_date']\n",
    "        end_date = row['end_date']\n",
    "        service_id = row['service_id']\n",
    "\n",
    "        start_date = pd.to_datetime(start_date, format='%Y%m%d')\n",
    "        end_date = pd.to_datetime(end_date, format='%Y%m%d')\n",
    "        \n",
    "        start_monday = start_date - pd.to_timedelta(start_date.dayofweek, unit='d')\n",
    "        end_sunday = end_date + pd.to_timedelta(6 - end_date.dayofweek, unit='d')\n",
    "\n",
    "        nb_weeks = (end_sunday - start_monday).days // 7 + 1\n",
    "\n",
    "        # create a new row for each week\n",
    "        for i in range(nb_weeks):\n",
    "            new_row = {\n",
    "                'service_id': f'{service_id}_{i}',\n",
    "                'monday': None,\n",
    "                'tuesday': None,\n",
    "                'wednesday': None,\n",
    "                'thursday': None,\n",
    "                'friday': None,\n",
    "                'saturday': None,\n",
    "                'sunday': None\n",
    "            }\n",
    "\n",
    "            # looking into the original row, set the days that are active\n",
    "            for day in range(7):\n",
    "                if row[calendar.columns[day+1]] == 1:\n",
    "                    new_row[calendar.columns[day+1]] = start_monday + pd.to_timedelta(i*7 + day, unit='d')\n",
    "\n",
    "            new_calendar.loc[len(new_calendar)] = new_row\n",
    "\n",
    "    new_calendar.to_csv('data/calendar.txt', index=False)"
   ]
  },
  {
   "cell_type": "code",
   "execution_count": null,
   "metadata": {},
   "outputs": [],
   "source": [
    "# Agency : we want to keep only the agency of Province de Liege\n",
    "\n",
    "if compute:\n",
    "    agency = pd.read_csv('data/agency.txt')\n",
    "    agency = agency[agency['agency_id'] == 'L']\n",
    "    agency.to_csv('data/agency.txt', index=False)"
   ]
  },
  {
   "cell_type": "code",
   "execution_count": null,
   "metadata": {},
   "outputs": [],
   "source": [
    "\n",
    "# Remove the table calendar_dates (too specific)\n",
    "\n",
    "if compute:\n",
    "    os.system(\"rm -rf data/calendar_dates.txt\")"
   ]
  },
  {
   "cell_type": "code",
   "execution_count": null,
   "metadata": {},
   "outputs": [],
   "source": [
    "\n",
    "# Remove the table feed_info (not useful)\n",
    "\n",
    "if compute:\n",
    "    os.system(\"rm -rf data/feed_info.txt\")"
   ]
  },
  {
   "cell_type": "code",
   "execution_count": null,
   "metadata": {},
   "outputs": [],
   "source": [
    "# Routes : we want to keep only the routes of Province de Liege\n",
    "if compute:\n",
    "    routes = pd.read_csv('data/routes.txt')\n",
    "    routes = routes[routes['agency_id'] == 'L']\n",
    "    routes.to_csv('data/routes.txt', index=False)"
   ]
  },
  {
   "cell_type": "code",
   "execution_count": null,
   "metadata": {},
   "outputs": [],
   "source": [
    "# Remove the table shapes (not useful)\n",
    "\n",
    "if compute:\n",
    "    os.system(\"rm -rf data/shapes.txt\")"
   ]
  },
  {
   "cell_type": "code",
   "execution_count": null,
   "metadata": {},
   "outputs": [],
   "source": [
    "# Trips : we want to keep only the trips of Province de Liege\n",
    "\n",
    "if compute:\n",
    "    # Remove trips with route_id not starting by 'L'\n",
    "    trips = pd.read_csv('data/trips.txt')\n",
    "    trips = trips[trips['route_id'].str.startswith('L')]\n",
    "\n",
    "    # Remove column shape_id and block_id from trips\n",
    "    trips = trips.drop(columns=['block_id','shape_id'])\n",
    "    trips.to_csv('data/trips.txt', index=False)"
   ]
  },
  {
   "cell_type": "code",
   "execution_count": null,
   "metadata": {},
   "outputs": [],
   "source": [
    "# Stops : we want to keep only the stops of Province de Liege\n",
    "\n",
    "if compute:\n",
    "    stops = pd.read_csv('data/stops.txt')\n",
    "    stops = stops[stops['stop_id'].str.startswith('L')]\n",
    "    stops.to_csv('data/stops.txt', index=False)"
   ]
  },
  {
   "cell_type": "code",
   "execution_count": null,
   "metadata": {},
   "outputs": [],
   "source": [
    "# Stop_times : we want to keep only the stop_times of Province de Liege\n",
    "\n",
    "if compute:\n",
    "    # Remove stop_times with stop_id not starting by 'L'\n",
    "    stop_times = pd.read_csv('data/stop_times.txt')\n",
    "    stop_times = stop_times[stop_times['stop_id'].str.startswith('L')]\n",
    "    stop_times = stop_times[stop_times['trip_id'].str.contains('-L_')]\n",
    "\n",
    "    # Remove rows when the arrival time and departure time is greater than '23:59:59'\n",
    "    stop_times = stop_times[(stop_times['arrival_time'].str[:2].astype(int) < 24)]\n",
    "    stop_times = stop_times[(stop_times['departure_time'].str[:2].astype(int) < 24)]\n",
    "\n",
    "    # if two consecutive rows have the same arrival_time drop the second one\n",
    "    stop_times = stop_times.drop_duplicates(subset=['trip_id', 'arrival_time'], keep='first')\n",
    "\n",
    "    # Transform departure_time and arrival_time to datetime our format is HH:MM:SS\n",
    "    stop_times['departure_time'] = pd.to_datetime(stop_times['departure_time'], format='%H:%M:%S')\n",
    "    stop_times['arrival_time'] = pd.to_datetime(stop_times['arrival_time'], format='%H:%M:%S')\n",
    "\n",
    "    stop_times.to_csv('data/stop_times.txt', index=False)"
   ]
  },
  {
   "attachments": {},
   "cell_type": "markdown",
   "metadata": {},
   "source": [
    "### Pulling the Docker image and running the container with the data (rerun, the container might be slow to start)\n",
    "```bash\n",
    "docker pull mobilitydb/mobilitydb\n",
    "docker volume create mobilitydb_data\n",
    "docker run --name \"mobilitydb\" -d -p 25432:5432 -v PATH_TO_DATA:/var/lib/postgresql mobilitydb/mobilitydb\n",
    "```\n",
    "\n",
    "### Connect to the database using psycopg2 and python-mobilitydb"
   ]
  },
  {
   "cell_type": "code",
   "execution_count": null,
   "metadata": {},
   "outputs": [],
   "source": [
    "connection = None\n",
    "\n",
    "try:\n",
    "    connection = psycopg2.connect(host='localhost', database='mobilitydb', user='docker', password='docker', port='25432')\n",
    "    connection.autocommit = True\n",
    "    print(\"Connected to PostgreSQL\")\n",
    "\n",
    "    register(connection)\n",
    "    print(\"MobilityDB extension enabled\")\n",
    "\n",
    "    cursor = connection.cursor()\n",
    "\n",
    "except (Exception, psycopg2.Error) as error:\n",
    "    print(\"Error while connecting to MobilityDB\", error)"
   ]
  },
  {
   "attachments": {},
   "cell_type": "markdown",
   "metadata": {},
   "source": [
    "### Load the data into the database"
   ]
  },
  {
   "cell_type": "code",
   "execution_count": null,
   "metadata": {},
   "outputs": [],
   "source": [
    "# Loading our data in PostgreSQL\n",
    "\n",
    "with open('sql/load.sql', 'r') as f:\n",
    "    cursor.execute(f.read())\n",
    "\n",
    "print(\"Data loaded\")"
   ]
  },
  {
   "cell_type": "code",
   "execution_count": null,
   "metadata": {},
   "outputs": [],
   "source": [
    "# Creating the calendar_trips to have a \"full\" calendar with dates\n",
    "\n",
    "with open('sql/manipulation.sql', 'r') as f:\n",
    "    cursor.execute(f.read())\n",
    "\n",
    "print(\"Data manipulated\")"
   ]
  },
  {
   "cell_type": "code",
   "execution_count": 103,
   "metadata": {},
   "outputs": [
    {
     "name": "stdout",
     "output_type": "stream",
     "text": [
      "['service_id', 'monday', 'tuesday', 'wednesday', 'thursday', 'friday', 'saturday', 'sunday']\n",
      "('L_PA_2023-23_LG_DI-Dimanche-05_0', None, None, None, None, None, None, datetime.date(2023, 5, 14))\n",
      "('L_PA_2023-23_LG_DI-Dimanche-05_1', None, None, None, None, None, None, datetime.date(2023, 5, 21))\n",
      "('L_PA_2023-23_LG_DI-Dimanche-05_2', None, None, None, None, None, None, datetime.date(2023, 5, 28))\n",
      "('L_PA_2023-23_LG_DI-Dimanche-05_3', None, None, None, None, None, None, datetime.date(2023, 6, 4))\n",
      "('L_PA_2023-23_LG_DI-Dimanche-06_0', None, None, None, None, None, None, datetime.date(2023, 6, 4))\n",
      "('L_PA_2023-23_LG_DI-Dimanche-06_1', None, None, None, None, None, None, datetime.date(2023, 6, 11))\n",
      "('L_PA_2023-23_LG_DI-Dimanche-06_2', None, None, None, None, None, None, datetime.date(2023, 6, 18))\n",
      "('L_PA_2023-23_LG_DI-Dimanche-06_3', None, None, None, None, None, None, datetime.date(2023, 6, 25))\n",
      "('L_PA_2023-23_LG_DI-Dimanche-06_4', None, None, None, None, None, None, datetime.date(2023, 7, 2))\n",
      "('L_PA_2023-23_LG_DI-Dimanche-06_5', None, None, None, None, None, None, datetime.date(2023, 7, 9))\n",
      "\n",
      "['service_id', 'trip_id', 'monday', 'tuesday', 'wednesday', 'thursday', 'friday', 'saturday', 'sunday', 'trip_short_name', 'direction_id']\n",
      "('L_PA_2023-23_LG_N3-Sem-N-3-26-1001100_0', '36566042-L_PA_2023-23_LG_N3-Sem-N-3-26_0', datetime.date(2023, 5, 29), None, None, datetime.date(2023, 6, 1), datetime.date(2023, 6, 2), None, None, '10', 1)\n",
      "('L_PA_2023-23_LG_N3-Sem-N-3-26-1001100_0', '36566060-L_PA_2023-23_LG_N3-Sem-N-3-26_0', datetime.date(2023, 5, 29), None, None, datetime.date(2023, 6, 1), datetime.date(2023, 6, 2), None, None, '61', 0)\n",
      "('L_PA_2023-23_LG_N3-Sem-N-3-26-1001100_0', '36566021-L_PA_2023-23_LG_N3-Sem-N-3-26_0', datetime.date(2023, 5, 29), None, None, datetime.date(2023, 6, 1), datetime.date(2023, 6, 2), None, None, '60', 1)\n",
      "('L_PA_2023-23_LG_N3-Sem-N-3-26-1001100_0', '36566072-L_PA_2023-23_LG_N3-Sem-N-3-26_0', datetime.date(2023, 5, 29), None, None, datetime.date(2023, 6, 1), datetime.date(2023, 6, 2), None, None, '53', 0)\n",
      "('L_PA_2023-23_LG_N3-Sem-N-3-26-1001100_0', '36566028-L_PA_2023-23_LG_N3-Sem-N-3-26_0', datetime.date(2023, 5, 29), None, None, datetime.date(2023, 6, 1), datetime.date(2023, 6, 2), None, None, '6', 1)\n",
      "('L_PA_2023-23_LG_N3-Sem-N-3-26-1001100_0', '36098917-L_PA_2023-23_LG_N3-Sem-N-3-26_0', datetime.date(2023, 5, 29), None, None, datetime.date(2023, 6, 1), datetime.date(2023, 6, 2), None, None, '16', 0)\n",
      "('L_PA_2023-23_LG_N3-Sem-N-3-26-1001100_0', '36566023-L_PA_2023-23_LG_N3-Sem-N-3-26_0', datetime.date(2023, 5, 29), None, None, datetime.date(2023, 6, 1), datetime.date(2023, 6, 2), None, None, '64', 1)\n",
      "('L_PA_2023-23_LG_N3-Sem-N-3-26-1001100_0', '36566054-L_PA_2023-23_LG_N3-Sem-N-3-26_0', datetime.date(2023, 5, 29), None, None, datetime.date(2023, 6, 1), datetime.date(2023, 6, 2), None, None, '37', 0)\n",
      "('L_PA_2023-23_LG_N3-Sem-N-3-26-1001100_0', '36566016-L_PA_2023-23_LG_N3-Sem-N-3-26_0', datetime.date(2023, 5, 29), None, None, datetime.date(2023, 6, 1), datetime.date(2023, 6, 2), None, None, '40', 1)\n",
      "('L_PA_2023-23_LG_N3-Sem-N-3-26-1001100_0', '36566043-L_PA_2023-23_LG_N3-Sem-N-3-26_0', datetime.date(2023, 5, 29), None, None, datetime.date(2023, 6, 1), datetime.date(2023, 6, 2), None, None, '21', 0)\n"
     ]
    }
   ],
   "source": [
    "# Checking that everything went well\n",
    "\n",
    "query = \"SELECT * FROM calendar LIMIT 10\"\n",
    "cursor.execute(query)\n",
    "\n",
    "colnames = [desc[0] for desc in cursor.description]\n",
    "print(colnames)\n",
    "\n",
    "for row in cursor.fetchall():\n",
    "    print(row)\n",
    "\n",
    "query = \"SELECT * FROM calendar_trips WHERE service_id = 'L_PA_2023-23_LG_N3-Sem-N-3-26-1001100_0' LIMIT 10\"\n",
    "cursor.execute(query)\n",
    "\n",
    "colnames = [desc[0] for desc in cursor.description]\n",
    "print(\"\\n\" + str(colnames))\n",
    "\n",
    "for row in cursor.fetchall():\n",
    "    print(row)"
   ]
  },
  {
   "attachments": {},
   "cell_type": "markdown",
   "metadata": {},
   "source": [
    "### Transform the data into a MobilityDB trajectory"
   ]
  },
  {
   "cell_type": "code",
   "execution_count": null,
   "metadata": {},
   "outputs": [],
   "source": [
    "# Transforming our data into MobilityDB\n",
    "\n",
    "with open('sql/mobility.sql', 'r') as f:\n",
    "    cursor.execute(f.read())\n",
    "\n",
    "print(\"Mobility functions loaded\")"
   ]
  },
  {
   "cell_type": "code",
   "execution_count": null,
   "metadata": {},
   "outputs": [],
   "source": [
    "# Checking that everything went well\n",
    "# Be aware that all the trajectories take place on the 1st January 1900\n",
    "# This is a trick used to avoid the computation of all the trajectories, around 24 hours of computation vs 1-2 minutes\n",
    "# We will query the database in the correct way using the calendar, service_id and trip_id to obtain the trajectories on the correct date\n",
    "\n",
    "query = \"SELECT * FROM stop_times_traj LIMIT 10;\"\n",
    "cursor.execute(query)\n",
    "\n",
    "for row in cursor.fetchall():\n",
    "    print(row)"
   ]
  },
  {
   "attachments": {},
   "cell_type": "markdown",
   "metadata": {},
   "source": [
    "## Let's now use the MobilityDB functions\n",
    "\n",
    "### Imagine you want to know what bus to take to go to the University of Liège at 8:00 from the train station (Liège-Guillemins) "
   ]
  },
  {
   "cell_type": "code",
   "execution_count": null,
   "metadata": {},
   "outputs": [],
   "source": [
    "# Creation of our day of interest\n",
    "hour_of_interest = \"8:00:00\"\n",
    "day_of_interest = pd.to_datetime(\"2023-06-02\", format='%Y-%m-%d')\n",
    "date_of_interest = day_of_interest.date()\n",
    "dayname = day_of_interest.day_name()\n",
    "\n",
    "# Isolate the service_id of the day of interest\n",
    "query = f\"SELECT DISTINCT service_id FROM calendar_trips WHERE {dayname} = '{date_of_interest}'\"\n",
    "cursor.execute(query)\n",
    "\n",
    "services = cursor.fetchall()\n",
    "services = [service[0] for service in services]\n",
    "\n",
    "# We will then isolate the zones of interest\n",
    "box_tolerance = 0.001\n",
    " \n",
    "lon_polytech = 5.560434\n",
    "lat_polytech = 50.584305\n",
    "\n",
    "lat_min_polytech = lat_polytech - box_tolerance\n",
    "lat_max_polytech = lat_polytech + box_tolerance\n",
    "lon_min_polytech = lon_polytech - box_tolerance\n",
    "lon_max_polytech = lon_polytech + box_tolerance\n",
    "\n",
    "lon_guillemins = 5.567853\n",
    "lat_guillemins = 50.62537\n",
    "\n",
    "lat_min_guillemins = lat_guillemins - box_tolerance\n",
    "lat_max_guillemins = lat_guillemins + box_tolerance\n",
    "lon_min_guillemins = lon_guillemins - box_tolerance\n",
    "lon_max_guillemins = lon_guillemins + box_tolerance\n",
    "\n",
    "query = f'SELECT trip_id FROM stop_times_traj WHERE intersects(traj, ST_MakeEnvelope({lon_min_polytech}, {lat_min_polytech}, {lon_max_polytech}, {lat_max_polytech}, 4326)) AND intersects(traj, ST_MakeEnvelope({lon_min_guillemins}, {lat_min_guillemins}, {lon_max_guillemins}, {lat_max_guillemins}, 4326))'\n",
    "cursor.execute(query)\n",
    "\n",
    "trips = cursor.fetchall()\n",
    "trips = [trip[0] for trip in trips]\n",
    "\n",
    "if len(services) == 1:\n",
    "    formated_services = f\"('{services[0]}')\"\n",
    "else:\n",
    "    formated_services = tuple(services)\n",
    "\n",
    "# Isolate the trips that have the correct service_id\n",
    "query = f\"SELECT trip_id FROM calendar_trips WHERE service_id IN {formated_services}\"\n",
    "cursor.execute(query)\n",
    "\n",
    "trips_correct_services = cursor.fetchall()\n",
    "trips_correct_services = [trip[0][:-2] for trip in trips_correct_services]\n",
    "\n",
    "print(f\"Number of trips during the day of interest : {len(trips_correct_services)}\")\n",
    "\n",
    "trips = list(set(trips_correct_services).intersection(trips))\n",
    "\n",
    "print(f\"Number of trips connecting the two zones on the day of interest : {len(trips)}\")\n",
    "\n",
    "# Using those trips we can now isolate the stop_times of interest\n",
    "query = f\"SELECT * FROM stop_times WHERE trip_id IN {tuple(trips)} AND arrival_time <= '1900-01-01 {hour_of_interest}' AND stop_id LIKE 'Lstpoly%'\"\n",
    "cursor.execute(query)\n",
    "\n",
    "final_trips = cursor.fetchall()\n",
    "final_trips = [trip[0] for trip in final_trips]\n",
    "\n",
    "# The stop_sequence was hardcoded to make sure the bus goes in the right direction\n",
    "print(\"\\nTimes of departure of the bus from Guillemins to get to Polytech at 8:00 :\")\n",
    "query = f\"SELECT DISTINCT stop_name, departure_time, route_short_name FROM stop_times INNER JOIN stops ON stop_times.stop_id = stops.stop_id INNER JOIN trips ON stop_times.trip_id = trips.trip_id INNER JOIN routes ON trips.route_id = routes.route_id WHERE stop_times.trip_id IN {tuple(final_trips)} AND stop_times.stop_id LIKE 'LlgguilB%' AND departure_time <= '1900-01-01 {hour_of_interest}' AND stop_sequence < 10 ORDER BY departure_time ASC\"\n",
    "cursor.execute(query)\n",
    "\n",
    "# Store in a pandas dataframe\n",
    "colnames = [desc[0] for desc in cursor.description]\n",
    "df = pd.DataFrame(columns=colnames)\n",
    "for row in cursor.fetchall():\n",
    "    index = len(df)\n",
    "    df.loc[index] = (row[0], row[1].strftime(\"%H:%M:%S\"), row[2])\n",
    "\n",
    "df.head(20)"
   ]
  },
  {
   "attachments": {},
   "cell_type": "markdown",
   "metadata": {},
   "source": [
    "### Create a box of interest around the campus of ULiège"
   ]
  },
  {
   "cell_type": "code",
   "execution_count": null,
   "metadata": {},
   "outputs": [],
   "source": [
    "# Identification of the routes that go through the area of interest\n",
    "\n",
    "# Campus of ULiège in Sart-Tilman\n",
    "LAT_MIN = 50.5820\n",
    "LAT_MAX = 50.6022\n",
    "LON_MIN = 5.5483\n",
    "LON_MAX = 5.5869\n",
    "\n",
    "query = f\"SELECT DISTINCT route_short_name FROM stop_times_traj INNER JOIN trips ON stop_times_traj.trip_id = trips.trip_id INNER JOIN routes ON trips.route_id = routes.route_id WHERE intersects(traj, ST_MakeEnvelope({LON_MIN}, {LAT_MIN}, {LON_MAX}, {LAT_MAX}, 4326));\"\n",
    "cursor.execute(query)\n",
    "\n",
    "print(\"Routes that go through the area of interest :\")\n",
    "for row in cursor.fetchall():\n",
    "    print(row[0])"
   ]
  },
  {
   "attachments": {},
   "cell_type": "markdown",
   "metadata": {},
   "source": [
    "### Heatmap of the bus lines inside the Province of Liège"
   ]
  },
  {
   "cell_type": "code",
   "execution_count": null,
   "metadata": {},
   "outputs": [],
   "source": [
    "# Getting the limiting coordinates of the area of interest\n",
    "\n",
    "# lowest latitude\n",
    "query = \"SELECT MIN(stop_lat) FROM stop_times_coord;\"\n",
    "cursor.execute(query)\n",
    "\n",
    "low_lat = None\n",
    "for row in cursor.fetchall():\n",
    "    low_lat = row[0]\n",
    "\n",
    "# highest latitude\n",
    "query = \"SELECT MAX(stop_lat) FROM stop_times_coord;\"\n",
    "cursor.execute(query)\n",
    "\n",
    "high_lat = None\n",
    "for row in cursor.fetchall():\n",
    "    high_lat = row[0]\n",
    "\n",
    "# lowest longitude\n",
    "query = \"SELECT MIN(stop_lon) FROM stop_times_coord;\"\n",
    "cursor.execute(query)\n",
    "\n",
    "low_lon = None\n",
    "for row in cursor.fetchall():\n",
    "    low_lon = row[0]\n",
    "\n",
    "# highest longitude\n",
    "query = \"SELECT MAX(stop_lon) FROM stop_times_coord;\"\n",
    "cursor.execute(query)\n",
    "\n",
    "high_lon = None\n",
    "for row in cursor.fetchall():\n",
    "    high_lon = row[0]\n",
    "\n",
    "print(low_lat, high_lat, low_lon, high_lon)"
   ]
  },
  {
   "cell_type": "code",
   "execution_count": null,
   "metadata": {},
   "outputs": [],
   "source": [
    "# Creation of different areas of interest\n",
    "\n",
    "# Sart-Tilman\n",
    "query = f\"SELECT traj FROM stop_times_traj WHERE intersects(traj, ST_MakeEnvelope({LON_MIN}, {LAT_MIN}, {LON_MAX}, {LAT_MAX}, 4326));\"\n",
    "cursor.execute(query)\n",
    "\n",
    "trajs_srt = []\n",
    "for row in tqdm(cursor.fetchall()):\n",
    "    trajs_srt.append(row[0])\n",
    "\n",
    "# Saint-Lambert\n",
    "LAT_MIN_SL = 50.6439\n",
    "LAT_MAX_SL = 50.6462\n",
    "LON_MIN_SL = 5.5720\n",
    "LON_MAX_SL = 5.5760\n",
    "query = f\"SELECT traj FROM stop_times_traj WHERE intersects(traj, ST_MakeEnvelope({LON_MIN_SL}, {LAT_MIN_SL}, {LON_MAX_SL}, {LAT_MAX_SL}, 4326));\"\n",
    "cursor.execute(query)\n",
    "\n",
    "trajs_stlamber = []\n",
    "for row in tqdm(cursor.fetchall()):\n",
    "    trajs_stlamber.append(row[0])\n",
    "\n",
    "# Eupen\n",
    "LAT_MIN_EU = 50.6133\n",
    "LAT_MAX_EU = 50.6525\n",
    "LON_MIN_EU = 6.0006\n",
    "LON_MAX_EU = 6.0722\n",
    "query = f\"SELECT traj FROM stop_times_traj WHERE intersects(traj, ST_MakeEnvelope({LON_MIN_EU}, {LAT_MIN_EU}, {LON_MAX_EU}, {LAT_MAX_EU}, 4326));\"\n",
    "cursor.execute(query)\n",
    "\n",
    "trajs_marche = []\n",
    "for row in tqdm(cursor.fetchall()):\n",
    "    trajs_marche.append(row[0])"
   ]
  },
  {
   "cell_type": "code",
   "execution_count": null,
   "metadata": {},
   "outputs": [],
   "source": [
    "# Creating the heatmap for the different areas of interest\n",
    "\n",
    "plt.figure(figsize=(10, 14))\n",
    "\n",
    "plt.xlabel('Longitude')\n",
    "plt.ylabel('Latitude')\n",
    "\n",
    "plt.xlim(low_lon, high_lon)\n",
    "plt.ylim(low_lat, high_lat)\n",
    "\n",
    "plt.imshow(plt.imread('figs/map.png'), extent=[low_lon, high_lon, low_lat, high_lat])\n",
    "\n",
    "for i in tqdm(range(len(trajs_srt))):\n",
    "    x = []\n",
    "    y = []\n",
    "    for j in range(trajs_srt[i].numInstants):\n",
    "        x.append(trajs_srt[i].getValues[j].x)\n",
    "        y.append(trajs_srt[i].getValues[j].y)\n",
    "    plt.plot(x, y, color='orange', alpha=0.005)\n",
    "\n",
    "for i in tqdm(range(len(trajs_stlamber))):\n",
    "    x = []\n",
    "    y = []\n",
    "    for j in range(trajs_stlamber[i].numInstants):\n",
    "        x.append(trajs_stlamber[i].getValues[j].x)\n",
    "        y.append(trajs_stlamber[i].getValues[j].y)\n",
    "    plt.plot(x, y, color='lime', alpha=0.005)\n",
    "\n",
    "for i in tqdm(range(len(trajs_marche))):\n",
    "    x = []\n",
    "    y = []\n",
    "    for j in range(trajs_marche[i].numInstants):\n",
    "        x.append(trajs_marche[i].getValues[j].x)\n",
    "        y.append(trajs_marche[i].getValues[j].y)\n",
    "    plt.plot(x, y, color='aqua', alpha=0.005)\n",
    "\n",
    "\n",
    "plt.plot([LON_MIN, LON_MIN, LON_MAX, LON_MAX, LON_MIN], [LAT_MIN, LAT_MAX, LAT_MAX, LAT_MIN, LAT_MIN], color='red', label='Sart-Tilman Campus')\n",
    "plt.plot([LON_MIN_SL, LON_MIN_SL, LON_MAX_SL, LON_MAX_SL, LON_MIN_SL], [LAT_MIN_SL, LAT_MAX_SL, LAT_MAX_SL, LAT_MIN_SL, LAT_MIN_SL], color='black', label='Saint-Lambert and Leopold Station Area')\n",
    "plt.plot([LON_MIN_EU, LON_MIN_EU, LON_MAX_EU, LON_MAX_EU, LON_MIN_EU], [LAT_MIN_EU, LAT_MAX_EU, LAT_MAX_EU, LAT_MIN_EU, LAT_MIN_EU], color='blue', label='Eupen Area')\n",
    "\n",
    "plt.title('Heatmap of all the trajectories')\n",
    "\n",
    "plt.legend()\n",
    "plt.savefig('figs/heatmap.png')\n",
    "plt.show()"
   ]
  },
  {
   "attachments": {},
   "cell_type": "markdown",
   "metadata": {},
   "source": [
    "### Plot the number of bus lines in circulation over time"
   ]
  },
  {
   "cell_type": "code",
   "execution_count": 60,
   "metadata": {},
   "outputs": [],
   "source": [
    "# By isolating the the service_id of the day of interest, we can isolate the trip_id of the day of interest\n",
    "\n",
    "day_of_interest = pd.to_datetime(\"2023-06-02\", format='%Y-%m-%d')\n",
    "\n",
    "date_of_interest = day_of_interest.date()\n",
    "dayname = day_of_interest.day_name()\n",
    "\n",
    "# Isolate the service_id of the day of interest\n",
    "query = f\"SELECT DISTINCT service_id FROM calendar_trips WHERE {dayname} = '{date_of_interest}'\"\n",
    "cursor.execute(query)\n",
    "\n",
    "services = cursor.fetchall()\n",
    "services = [service[0] for service in services]\n",
    "\n",
    "if len(services) == 1:\n",
    "    formated_services = f\"('{services[0]}')\"\n",
    "else:\n",
    "    formated_services = tuple(services)\n",
    "\n",
    "# Isolate the trip_id of the day of interest\n",
    "query = f\"SELECT DISTINCT trip_id FROM calendar_trips WHERE service_id IN {formated_services}\"\n",
    "cursor.execute(query)\n",
    "\n",
    "trips = cursor.fetchall()\n",
    "trips = [trip[0] for trip in trips]\n",
    "trips = [trip[:-2] for trip in trips]\n",
    "\n",
    "if len(trips) == 1:\n",
    "    formated_trips = f\"('{trips[0]}')\"\n",
    "else:\n",
    "    formated_trips = tuple(trips[:])\n",
    "\n",
    "# Isolate the correct trajectories\n",
    "query = f\"SELECT * FROM stop_times_traj WHERE trip_id IN {formated_trips}\"\n",
    "cursor.execute(query)\n",
    "\n",
    "trajs = []\n",
    "for row in cursor.fetchall():\n",
    "    trajs.append(row[1])\n"
   ]
  },
  {
   "cell_type": "code",
   "execution_count": 102,
   "metadata": {},
   "outputs": [
    {
     "name": "stdout",
     "output_type": "stream",
     "text": [
      "1900-01-01 06:20:00+00:00\n",
      "Median duration of a trip: 33.068891645055814 minutes\n"
     ]
    },
    {
     "data": {
      "image/png": "[encoded data removed]",
      "text/plain": [
       "<Figure size 1000x600 with 1 Axes>"
      ]
     },
     "metadata": {},
     "output_type": "display_data"
    }
   ],
   "source": [
    "# Iterating over the trajectories to find the median duration of a trip\n",
    "# and to create a plot of the evolution of the number of active buses over the day\n",
    "\n",
    "minutes = 24 * 60\n",
    "nb_busses = np.zeros(minutes)\n",
    "\n",
    "print(trajs[0].startTimestamp)\n",
    "\n",
    "\n",
    "median_duration = 0\n",
    "\n",
    "for traj in trajs:\n",
    "    median_duration += traj.duration.total_seconds()\n",
    "    start = traj.startTimestamp\n",
    "    end = traj.endTimestamp\n",
    "    start = start.hour * 60 + start.minute\n",
    "    end = end.hour * 60 + end.minute\n",
    "    nb_busses[start:end] += 1\n",
    "\n",
    "median_duration /= len(trajs)*60\n",
    "\n",
    "print(f\"Median duration of a trip: {median_duration} minutes\")\n",
    "\n",
    "plt.figure(figsize=(10, 6))\n",
    "plt.xlabel('Time of the day')\n",
    "plt.ylabel('Number of buses')\n",
    "plt.xlim(0, minutes)\n",
    "plt.xticks(np.arange(0, minutes, 60), np.arange(0, 24, 1))\n",
    "plt.title('Number of active buses per minute in Province of Liège on a typical day')\n",
    "plt.plot(nb_busses, color='orange', label='Number of buses')\n",
    "plt.savefig('figs/number_of_buses.png')\n",
    "plt.show()"
   ]
  }
 ],
 "metadata": {
  "kernelspec": {
   "display_name": "mobilityDB",
   "language": "python",
   "name": "python3"
  },
  "language_info": {
   "codemirror_mode": {
    "name": "ipython",
    "version": 3
   },
   "file_extension": ".py",
   "mimetype": "text/x-python",
   "name": "python",
   "nbconvert_exporter": "python",
   "pygments_lexer": "ipython3",
   "version": "3.11.3"
  },
  "orig_nbformat": 4
 },
 "nbformat": 4,
 "nbformat_minor": 2
}
